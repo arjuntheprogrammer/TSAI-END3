{
  "nbformat": 4,
  "nbformat_minor": 2,
  "metadata": {
    "colab": {
      "name": "Session 1.ipynb",
      "provenance": [],
      "collapsed_sections": [
        "NIQwW6ykvb5f"
      ]
    },
    "kernelspec": {
      "name": "python3",
      "display_name": "Python 3"
    },
    "language_info": {
      "name": "python"
    }
  },
  "cells": [
    {
      "cell_type": "markdown",
      "source": [
        "# TSAI Assignment\n",
        "\n",
        "## Session 1 - Background & Very Basics\n",
        "\n",
        "1. Rewrite the Colab file and:\n",
        "\n",
        "   1. Remove the last activation function\n",
        "   2. Make sure there are in total 44 parameters\n",
        "   3. Run it for 2001 epochs\n",
        "\n",
        "2. You must upload your assignment to a public GitHub Repository and share the link as the submission to this assignment\n",
        "\n",
        "3. Add a readme file to your project and describe these things:\n",
        "\n",
        "   1. What is a neural network neuron?\n",
        "   2. What is the use of the learning rate?\n",
        "   3. How are weights initialized?\n",
        "   4. What is \"loss\" in a neural network?\n",
        "   5. What is the \"chain rule\" in gradient flow?\n",
        "\n",
        "4. This assignment is worth 300pts (150 for Code, and 150 for your readme file (directly proportional to your description).\n"
      ],
      "metadata": {
        "id": "MJrxffFQuQ53"
      }
    },
    {
      "cell_type": "markdown",
      "source": [
        "## Existing Code\n"
      ],
      "metadata": {
        "id": "NIQwW6ykvb5f"
      }
    },
    {
      "cell_type": "code",
      "execution_count": 1,
      "source": [
        "import torch\n",
        "from torch.autograd import Variable\n",
        "import torch.nn as nn\n",
        "import torch.nn.functional as F\n",
        "import torch.optim as optim\n",
        "import numpy as np\n",
        "import matplotlib.pyplot as plt\n",
        "%matplotlib inline\n",
        "torch.manual_seed(2)"
      ],
      "outputs": [
        {
          "output_type": "execute_result",
          "data": {
            "text/plain": [
              "<torch._C.Generator at 0x7f20e87a2ab0>"
            ]
          },
          "metadata": {},
          "execution_count": 1
        }
      ],
      "metadata": {
        "colab": {
          "base_uri": "https://localhost:8080/"
        },
        "id": "GC_6PeobwwkH",
        "outputId": "1bb05284-ca52-4e0b-dbb8-65d24500d142"
      }
    },
    {
      "cell_type": "code",
      "execution_count": 2,
      "source": [
        "X = torch.Tensor([[0,0], [0,1], [1,0], [1,1]])\n",
        "Y = torch.Tensor([0, 1, 1, 0]).view(-1,1)"
      ],
      "outputs": [],
      "metadata": {
        "id": "bL64bMTkw2GP"
      }
    },
    {
      "cell_type": "code",
      "execution_count": 3,
      "source": [
        "class XOR(nn.Module):\n",
        "    def __init__(self, input_dim = 2, output_dim=1):\n",
        "        super(XOR, self).__init__()\n",
        "        self.lin1 = nn.Linear(input_dim, 2)\n",
        "        self.lin2 = nn.Linear(2, output_dim)\n",
        "    \n",
        "    def forward(self, x):\n",
        "        x = self.lin1(x)\n",
        "        x = torch.tanh(x)\n",
        "        x = self.lin2(x)\n",
        "        x = torch.tanh(x)\n",
        "        return x"
      ],
      "outputs": [],
      "metadata": {
        "id": "aC82kEAIw3Wf"
      }
    },
    {
      "cell_type": "code",
      "execution_count": 4,
      "source": [
        "model = XOR()\n",
        "print(model)\n",
        "from torchsummary import summary\n",
        "summary(model, (2,2))"
      ],
      "outputs": [
        {
          "output_type": "stream",
          "name": "stdout",
          "text": [
            "XOR(\n",
            "  (lin1): Linear(in_features=2, out_features=2, bias=True)\n",
            "  (lin2): Linear(in_features=2, out_features=1, bias=True)\n",
            ")\n",
            "----------------------------------------------------------------\n",
            "        Layer (type)               Output Shape         Param #\n",
            "================================================================\n",
            "            Linear-1                 [-1, 2, 2]               6\n",
            "            Linear-2                 [-1, 2, 1]               3\n",
            "================================================================\n",
            "Total params: 9\n",
            "Trainable params: 9\n",
            "Non-trainable params: 0\n",
            "----------------------------------------------------------------\n",
            "Input size (MB): 0.00\n",
            "Forward/backward pass size (MB): 0.00\n",
            "Params size (MB): 0.00\n",
            "Estimated Total Size (MB): 0.00\n",
            "----------------------------------------------------------------\n"
          ]
        }
      ],
      "metadata": {
        "colab": {
          "base_uri": "https://localhost:8080/"
        },
        "id": "8gQIQExYw65K",
        "outputId": "c9962f68-6742-4d22-f852-90d1c3e3f2cb"
      }
    },
    {
      "cell_type": "code",
      "execution_count": 5,
      "source": [
        "def weights_init(model):\n",
        "    for m in model.modules():\n",
        "        if isinstance(m, nn.Linear):\n",
        "            # initialize the weight tensor, here we use a normal distribution\n",
        "            m.weight.data.normal_(0, 1)\n",
        "\n",
        "weights_init(model)"
      ],
      "outputs": [],
      "metadata": {
        "id": "yeotEq19x6XF"
      }
    },
    {
      "cell_type": "code",
      "execution_count": 6,
      "source": [
        "loss_func = nn.L1Loss()"
      ],
      "outputs": [],
      "metadata": {
        "id": "WrD_sNzLx78e"
      }
    },
    {
      "cell_type": "code",
      "execution_count": 7,
      "source": [
        "optimizer = optim.SGD(model.parameters(), lr=0.02, momentum=0.9)"
      ],
      "outputs": [],
      "metadata": {
        "id": "-zvbrMd2x_lA"
      }
    },
    {
      "cell_type": "code",
      "execution_count": 8,
      "source": [
        "epochs = 300\n",
        "steps = X.size(0)\n",
        "for i in range(epochs):\n",
        "    for j in range(steps):\n",
        "        data_point = np.random.randint(X.size(0))\n",
        "        x_var = Variable(X[data_point], requires_grad=False)\n",
        "        y_var = Variable(Y[data_point], requires_grad=False)\n",
        "        \n",
        "        optimizer.zero_grad()\n",
        "        y_hat = model(x_var)\n",
        "        loss = loss_func.forward(y_hat, y_var)\n",
        "        loss.backward()\n",
        "        optimizer.step()\n",
        "        \n",
        "    if i % 50 == 0:\n",
        "        print( \"Epoch: {0}, Loss: {1}, \".format(i, loss.data.numpy()))"
      ],
      "outputs": [
        {
          "output_type": "stream",
          "name": "stdout",
          "text": [
            "Epoch: 0, Loss: 1.7661595344543457, \n",
            "Epoch: 50, Loss: 0.9168998599052429, \n",
            "Epoch: 100, Loss: 0.06306576728820801, \n",
            "Epoch: 150, Loss: 0.013644635677337646, \n",
            "Epoch: 200, Loss: 0.9997838139533997, \n",
            "Epoch: 250, Loss: 0.005903184413909912, \n"
          ]
        }
      ],
      "metadata": {
        "colab": {
          "base_uri": "https://localhost:8080/"
        },
        "id": "q7tWa3D7yA5X",
        "outputId": "492e50ec-aaac-42ca-fc29-b3de25a4e138"
      }
    },
    {
      "cell_type": "markdown",
      "source": [
        "## New Assigment Code\n",
        "\n",
        "\n",
        "NN DIAGRAM with 44 Parameters\n",
        "![NN_DIAGRAM](https://user-images.githubusercontent.com/15984084/133919297-33185e1e-07b1-4f68-8e7a-61b629bb426d.jpg)\n"
      ],
      "metadata": {
        "id": "_UzjrCLhtqAI"
      }
    },
    {
      "cell_type": "code",
      "execution_count": 55,
      "source": [
        "import torch\n",
        "from torch.autograd import Variable\n",
        "import torch.nn as nn\n",
        "import torch.nn.functional as F\n",
        "import torch.optim as optim\n",
        "import numpy as np\n",
        "import matplotlib.pyplot as plt\n",
        "%matplotlib inline\n",
        "torch.manual_seed(2)\n",
        "\n",
        "# Train Data\n",
        "X = torch.Tensor([[0,0], [0,1], [1,0], [1,1]])\n",
        "Y = torch.Tensor([0, 1, 1, 0]).view(-1,1)\n",
        "\n",
        "# XOR NN Model\n",
        "class XOR(nn.Module):\n",
        "    def __init__(self, input_dim = 2, output_dim=1):\n",
        "        super(XOR, self).__init__()\n",
        "        self.lin1 = nn.Linear(input_dim, 4)\n",
        "        self.lin2 = nn.Linear(4, 3)\n",
        "        self.lin3 = nn.Linear(3, 2)\n",
        "        self.lin4 = nn.Linear(2, 2)\n",
        "        self.lin5 = nn.Linear(2, output_dim)\n",
        "    \n",
        "    def forward(self, x):\n",
        "        x = self.lin1(x)\n",
        "        x = torch.tanh(x)\n",
        "\n",
        "        x = self.lin2(x)\n",
        "        x = torch.tanh(x)\n",
        "\n",
        "        x = self.lin3(x)\n",
        "        x = torch.tanh(x)\n",
        "\n",
        "        x = self.lin4(x)\n",
        "        x = torch.tanh(x)\n",
        "\n",
        "        x = self.lin5(x)\n",
        "        return x\n",
        "\n",
        "# Initialize XOR NN model\n",
        "model = XOR()\n",
        "print(model)\n",
        "\n",
        "from torchsummary import summary\n",
        "summary(model, (2,2))\n",
        "\n",
        "def weights_init(model):\n",
        "    for m in model.modules():\n",
        "        if isinstance(m, nn.Linear):\n",
        "            # initialize the weight tensor, here we use a normal distribution\n",
        "            m.weight.data.normal_(0, 1)\n",
        "\n",
        "# Initialize Weights\n",
        "weights_init(model)\n",
        "\n",
        "# Set Loss Function\n",
        "loss_func = nn.L1Loss()\n",
        "\n",
        "# Set Optimizer\n",
        "optimizer = optim.SGD(model.parameters(), lr=0.001, momentum=0.9)\n",
        "\n",
        "\n",
        "epochs = 2001\n",
        "steps = X.size(0)\n",
        "\n",
        "for i in range(epochs):\n",
        "    for j in range(steps):\n",
        "        # Generate Model Data\n",
        "        data_point = np.random.randint(X.size(0))\n",
        "        x_var = Variable(X[data_point], requires_grad=False)\n",
        "        y_var = Variable(Y[data_point], requires_grad=False)\n",
        "        \n",
        "        optimizer.zero_grad()\n",
        "\n",
        "        # Calculate Predicted Value\n",
        "        y_hat = model(x_var)\n",
        "        \n",
        "        # Calculate Loss\n",
        "        loss = loss_func.forward(y_hat, y_var)\n",
        "\n",
        "        # Backward Propagation\n",
        "        loss.backward()\n",
        "\n",
        "        # Update Weights\n",
        "        optimizer.step()\n",
        "        \n",
        "    if i % 50 == 0:\n",
        "        print( \"Epoch: {0}, Loss: {1}, \".format(i, loss.data.numpy()))\n"
      ],
      "outputs": [
        {
          "output_type": "stream",
          "name": "stdout",
          "text": [
            "XOR(\n",
            "  (lin1): Linear(in_features=2, out_features=4, bias=True)\n",
            "  (lin2): Linear(in_features=4, out_features=3, bias=True)\n",
            "  (lin3): Linear(in_features=3, out_features=2, bias=True)\n",
            "  (lin4): Linear(in_features=2, out_features=2, bias=True)\n",
            "  (lin5): Linear(in_features=2, out_features=1, bias=True)\n",
            ")\n",
            "----------------------------------------------------------------\n",
            "        Layer (type)               Output Shape         Param #\n",
            "================================================================\n",
            "            Linear-1                 [-1, 2, 4]              12\n",
            "            Linear-2                 [-1, 2, 3]              15\n",
            "            Linear-3                 [-1, 2, 2]               8\n",
            "            Linear-4                 [-1, 2, 2]               6\n",
            "            Linear-5                 [-1, 2, 1]               3\n",
            "================================================================\n",
            "Total params: 44\n",
            "Trainable params: 44\n",
            "Non-trainable params: 0\n",
            "----------------------------------------------------------------\n",
            "Input size (MB): 0.00\n",
            "Forward/backward pass size (MB): 0.00\n",
            "Params size (MB): 0.00\n",
            "Estimated Total Size (MB): 0.00\n",
            "----------------------------------------------------------------\n",
            "Epoch: 0, Loss: 1.129563570022583, \n",
            "Epoch: 50, Loss: 0.02247518301010132, \n",
            "Epoch: 100, Loss: 0.0006750226020812988, \n",
            "Epoch: 150, Loss: 0.08603376150131226, \n",
            "Epoch: 200, Loss: 0.0021260976791381836, \n",
            "Epoch: 250, Loss: 0.014003396034240723, \n",
            "Epoch: 300, Loss: 0.025893211364746094, \n",
            "Epoch: 350, Loss: 0.006153106689453125, \n",
            "Epoch: 400, Loss: 0.005197346210479736, \n",
            "Epoch: 450, Loss: 0.01588571071624756, \n",
            "Epoch: 500, Loss: 0.005797863006591797, \n",
            "Epoch: 550, Loss: 0.015140026807785034, \n",
            "Epoch: 600, Loss: 0.07214100658893585, \n",
            "Epoch: 650, Loss: 0.040938377380371094, \n",
            "Epoch: 700, Loss: 0.0033784806728363037, \n",
            "Epoch: 750, Loss: 0.030320942401885986, \n",
            "Epoch: 800, Loss: 0.028629958629608154, \n",
            "Epoch: 850, Loss: 0.012261629104614258, \n",
            "Epoch: 900, Loss: 0.007853776216506958, \n",
            "Epoch: 950, Loss: 0.01703023910522461, \n",
            "Epoch: 1000, Loss: 0.009104371070861816, \n",
            "Epoch: 1050, Loss: 0.006189018487930298, \n",
            "Epoch: 1100, Loss: 0.02654242515563965, \n",
            "Epoch: 1150, Loss: 0.0073288679122924805, \n",
            "Epoch: 1200, Loss: 0.017540931701660156, \n",
            "Epoch: 1250, Loss: 0.019989848136901855, \n",
            "Epoch: 1300, Loss: 0.03260105848312378, \n",
            "Epoch: 1350, Loss: 0.013685464859008789, \n",
            "Epoch: 1400, Loss: 0.06397593021392822, \n",
            "Epoch: 1450, Loss: 0.031779944896698, \n",
            "Epoch: 1500, Loss: 0.024397432804107666, \n",
            "Epoch: 1550, Loss: 0.013949215412139893, \n",
            "Epoch: 1600, Loss: 0.012152701616287231, \n",
            "Epoch: 1650, Loss: 0.0014433860778808594, \n",
            "Epoch: 1700, Loss: 0.0039535462856292725, \n",
            "Epoch: 1750, Loss: 0.011998534202575684, \n",
            "Epoch: 1800, Loss: 0.004575490951538086, \n",
            "Epoch: 1850, Loss: 0.002572774887084961, \n",
            "Epoch: 1900, Loss: 0.008223176002502441, \n",
            "Epoch: 1950, Loss: 0.010141462087631226, \n",
            "Epoch: 2000, Loss: 0.0037834644317626953, \n"
          ]
        }
      ],
      "metadata": {
        "id": "QV0dIdveyCRi",
        "colab": {
          "base_uri": "https://localhost:8080/"
        },
        "outputId": "e60f65c1-f918-48a5-ad61-e68b4e8dfe00"
      }
    },
    {
      "cell_type": "markdown",
      "source": [
        "**Minimum Loss**\n",
        "\n",
        "Epoch: 100, Loss: 0.0006750226020812988\n"
      ],
      "metadata": {
        "id": "Lnf1GFyZ_dyN"
      }
    },
    {
      "cell_type": "code",
      "execution_count": null,
      "source": [],
      "outputs": [],
      "metadata": {
        "id": "_JXyN3BUx6em"
      }
    }
  ]
}