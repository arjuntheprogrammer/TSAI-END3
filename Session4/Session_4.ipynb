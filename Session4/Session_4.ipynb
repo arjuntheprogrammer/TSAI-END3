{
  "nbformat": 4,
  "nbformat_minor": 0,
  "metadata": {
    "accelerator": "GPU",
    "colab": {
      "name": "Session_4.ipynb",
      "provenance": [],
      "collapsed_sections": [
        "X85wT8iWLd6L",
        "JAZwP8qGJca5",
        "p7SsZq7YJumg"
      ]
    },
    "kernelspec": {
      "display_name": "Python 3",
      "name": "python3"
    },
    "language_info": {
      "name": "python"
    }
  },
  "cells": [
    {
      "cell_type": "markdown",
      "metadata": {
        "id": "X85wT8iWLd6L"
      },
      "source": [
        "# USING RNN"
      ]
    },
    {
      "cell_type": "markdown",
      "metadata": {
        "id": "JAZwP8qGJca5"
      },
      "source": [
        "## Prepare Data"
      ]
    },
    {
      "cell_type": "code",
      "metadata": {
        "id": "4SPhj6gnAnT2"
      },
      "source": [
        "import torch\n",
        "from torchtext.legacy import data\n",
        "\n",
        "SEED = 1234\n",
        "\n",
        "torch.manual_seed(SEED)\n",
        "torch.backends.cudnn.deterministic = True\n",
        "\n",
        "TEXT = data.Field(tokenize = 'spacy',\n",
        "                  tokenizer_language = 'en_core_web_sm')\n",
        "LABEL = data.LabelField(dtype = torch.float)"
      ],
      "execution_count": null,
      "outputs": []
    },
    {
      "cell_type": "code",
      "metadata": {
        "colab": {
          "base_uri": "https://localhost:8080/"
        },
        "id": "lwn4oStE6PzV",
        "outputId": "ba6a2211-451d-4a33-bf8d-d026b0a37c1c"
      },
      "source": [
        "from torchtext.legacy import datasets\n",
        "\n",
        "train_data, test_data = datasets.IMDB.splits(TEXT, LABEL)"
      ],
      "execution_count": null,
      "outputs": [
        {
          "output_type": "stream",
          "name": "stdout",
          "text": [
            "downloading aclImdb_v1.tar.gz\n"
          ]
        },
        {
          "output_type": "stream",
          "name": "stderr",
          "text": [
            "aclImdb_v1.tar.gz: 100%|██████████| 84.1M/84.1M [00:07<00:00, 11.8MB/s]\n"
          ]
        }
      ]
    },
    {
      "cell_type": "code",
      "metadata": {
        "colab": {
          "base_uri": "https://localhost:8080/"
        },
        "id": "5DLJ86m56Xdn",
        "outputId": "da8a5570-7909-495c-da08-1f75f4710107"
      },
      "source": [
        "print(f'Number of training examples: {len(train_data)}')\n",
        "print(f'Number of testing examples: {len(test_data)}')"
      ],
      "execution_count": null,
      "outputs": [
        {
          "output_type": "stream",
          "name": "stdout",
          "text": [
            "Number of training examples: 25000\n",
            "Number of testing examples: 25000\n"
          ]
        }
      ]
    },
    {
      "cell_type": "code",
      "metadata": {
        "colab": {
          "base_uri": "https://localhost:8080/"
        },
        "id": "iXTWwqXA6rP2",
        "outputId": "cb8c54e0-ddc5-4270-9c55-fee8baf4d523"
      },
      "source": [
        "print(vars(train_data.examples[0]))"
      ],
      "execution_count": null,
      "outputs": [
        {
          "output_type": "stream",
          "name": "stdout",
          "text": [
            "{'text': ['I', 'wanted', 'to', 'see', 'Valentine', 'ever', 'since', 'I', 'saw', 'that', 'Denise', 'Richards', 'and', 'Marley', 'Shelton', 'were', 'in', 'it', 'because', 'they', 'had', 'played', 'in', 'some', 'of', 'my', 'favorite', 'movies', 'ever', '.', 'When', 'I', 'watched', 'Valentine', ',', 'I', 'was', 'amazed', 'at', 'how', 'great', 'the', 'story', 'line', 'actually', 'was', '.', 'It', 'kills', 'me', 'to', 'see', 'that', 'it', 'has', 'a', 'low', 'rating', 'because', 'it', 'was', 'not', 'horrible', 'at', 'all', '.', 'The', 'actors', 'and', 'actresses', 'played', 'the', 'parts', 'wonderfully', 'and', 'the', 'way', 'it', 'ended', 'was', 'so', 'brilliant', 'and', 'cunning', '.', 'Some', 'scenes', 'were', 'a', 'little', 'unbelievable', 'and', 'or', 'poor', ',', 'and', 'I', 'admit', 'at', 'a', 'few', 'minor', 'parts', 'it', 'got', 'just', 'a', 'small', 'bit', 'boring', ',', 'but', 'overall', 'it', 'was', 'non', '-', 'stop', 'entertaining', 'and', 'suspenseful', '.', 'It', 'had', 'a', 'mind', '-', 'twisting', 'story', 'line', 'which', 'made', 'you', 'guess', 'the', 'whole', 'way', 'through', 'and', 'it', 'does', \"n't\", 'deserve', 'all', 'the', 'crap', 'it', 'gets', '.', 'I', 'recommend', 'this', 'movie', 'to', 'watch', 'anytime', ',', 'but', 'especially', 'on', 'Valentine', \"'s\", 'Day', 'because', 'it', \"'s\", 'sure', 'to', 'give', 'you', 'a', 'ton', 'of', 'chills', '.', 'Oh', ',', 'and', 'do', \"n't\", 'even', 'pay', 'attention', 'to', 'the', 'trailer', 'OR', 'rating', ',', 'please', ',', \"DON'T\", '...'], 'label': 'pos'}\n"
          ]
        }
      ]
    },
    {
      "cell_type": "code",
      "metadata": {
        "id": "3HMVqiZd6tR0"
      },
      "source": [
        "import random\n",
        "\n",
        "train_data, valid_data = train_data.split(random_state = random.seed(SEED))"
      ],
      "execution_count": null,
      "outputs": []
    },
    {
      "cell_type": "code",
      "metadata": {
        "colab": {
          "base_uri": "https://localhost:8080/"
        },
        "id": "uOeQ6KpP7M-0",
        "outputId": "6838f387-42ca-4693-f64a-4b5d6ff6ade7"
      },
      "source": [
        "print(f'Number of training examples: {len(train_data)}')\n",
        "print(f'Number of validation examples: {len(valid_data)}')\n",
        "print(f'Number of testing examples: {len(test_data)}')"
      ],
      "execution_count": null,
      "outputs": [
        {
          "output_type": "stream",
          "name": "stdout",
          "text": [
            "Number of training examples: 17500\n",
            "Number of validation examples: 7500\n",
            "Number of testing examples: 25000\n"
          ]
        }
      ]
    },
    {
      "cell_type": "code",
      "metadata": {
        "id": "KixkM1jQ7TB-"
      },
      "source": [
        "MAX_VOCAB_SIZE = 25_000\n",
        "\n",
        "TEXT.build_vocab(train_data, max_size = MAX_VOCAB_SIZE)\n",
        "LABEL.build_vocab(train_data)"
      ],
      "execution_count": null,
      "outputs": []
    },
    {
      "cell_type": "code",
      "metadata": {
        "colab": {
          "base_uri": "https://localhost:8080/"
        },
        "id": "hD4SFKnc7g0D",
        "outputId": "888412d6-4d13-4ce0-dba7-35c76ce04645"
      },
      "source": [
        "print(f\"Unique tokens in TEXT vocabulary: {len(TEXT.vocab)}\")\n",
        "print(f\"Unique tokens in LABEL vocabulary: {len(LABEL.vocab)}\")"
      ],
      "execution_count": null,
      "outputs": [
        {
          "output_type": "stream",
          "name": "stdout",
          "text": [
            "Unique tokens in TEXT vocabulary: 25002\n",
            "Unique tokens in LABEL vocabulary: 2\n"
          ]
        }
      ]
    },
    {
      "cell_type": "code",
      "metadata": {
        "colab": {
          "base_uri": "https://localhost:8080/"
        },
        "id": "ttKvFTCQ7isK",
        "outputId": "21e2eb32-ad7b-4709-ead0-b9091dbd2a8f"
      },
      "source": [
        "print(TEXT.vocab.freqs.most_common(20))"
      ],
      "execution_count": null,
      "outputs": [
        {
          "output_type": "stream",
          "name": "stdout",
          "text": [
            "[('the', 202923), (',', 192053), ('.', 166000), ('a', 109288), ('and', 109178), ('of', 100640), ('to', 93635), ('is', 76704), ('in', 61267), ('I', 54291), ('it', 53698), ('that', 49249), ('\"', 44580), (\"'s\", 43559), ('this', 42351), ('-', 36904), ('/><br', 35611), ('was', 34767), ('as', 30270), ('with', 29748)]\n"
          ]
        }
      ]
    },
    {
      "cell_type": "code",
      "metadata": {
        "colab": {
          "base_uri": "https://localhost:8080/"
        },
        "id": "fZXIsIV47mlI",
        "outputId": "4b5e157f-5826-4dff-df79-6792a6f93393"
      },
      "source": [
        "print(TEXT.vocab.itos[:10])"
      ],
      "execution_count": null,
      "outputs": [
        {
          "output_type": "stream",
          "name": "stdout",
          "text": [
            "['<unk>', '<pad>', 'the', ',', '.', 'a', 'and', 'of', 'to', 'is']\n"
          ]
        }
      ]
    },
    {
      "cell_type": "code",
      "metadata": {
        "colab": {
          "base_uri": "https://localhost:8080/"
        },
        "id": "vmbx3T9-7x4g",
        "outputId": "94881e3f-f860-48c7-d18f-1bc033a490a1"
      },
      "source": [
        "print(LABEL.vocab.stoi)"
      ],
      "execution_count": null,
      "outputs": [
        {
          "output_type": "stream",
          "name": "stdout",
          "text": [
            "defaultdict(None, {'neg': 0, 'pos': 1})\n"
          ]
        }
      ]
    },
    {
      "cell_type": "code",
      "metadata": {
        "id": "B3gBfP6mEJ_0"
      },
      "source": [
        "BATCH_SIZE = 64\n",
        "\n",
        "device = torch.device('cuda' if torch.cuda.is_available() else 'cpu')\n",
        "\n",
        "train_iterator, valid_iterator, test_iterator = data.BucketIterator.splits(\n",
        "    (train_data, valid_data, test_data), \n",
        "    batch_size = BATCH_SIZE,\n",
        "    device = device)"
      ],
      "execution_count": null,
      "outputs": []
    },
    {
      "cell_type": "markdown",
      "metadata": {
        "id": "p7SsZq7YJumg"
      },
      "source": [
        "## RNN MODEL"
      ]
    },
    {
      "cell_type": "code",
      "metadata": {
        "id": "E2ZQQV1-ELZf"
      },
      "source": [
        "import torch.nn as nn\n",
        "\n",
        "class RNN(nn.Module):\n",
        "    def __init__(self, input_dim, embedding_dim, hidden_dim, output_dim):\n",
        "        \n",
        "        super().__init__()\n",
        "        \n",
        "        self.embedding = nn.Embedding(input_dim, embedding_dim)\n",
        "        \n",
        "        self.rnn = nn.RNN(embedding_dim, hidden_dim)\n",
        "        \n",
        "        self.fc = nn.Linear(hidden_dim, output_dim)\n",
        "        \n",
        "    def forward(self, text):\n",
        "\n",
        "        #text = [sent len, batch size]\n",
        "        \n",
        "        embedded = self.embedding(text)\n",
        "        \n",
        "        #embedded = [sent len, batch size, emb dim]\n",
        "        \n",
        "        output, hidden = self.rnn(embedded)\n",
        "        \n",
        "        #output = [sent len, batch size, hid dim]\n",
        "        #hidden = [1, batch size, hid dim]\n",
        "        \n",
        "        assert torch.equal(output[-1,:,:], hidden.squeeze(0))\n",
        "        \n",
        "        return self.fc(hidden.squeeze(0))"
      ],
      "execution_count": null,
      "outputs": []
    },
    {
      "cell_type": "markdown",
      "metadata": {
        "id": "6cj_ZF-sKA51"
      },
      "source": [
        "## TRAIN AND TEST RNN"
      ]
    },
    {
      "cell_type": "code",
      "metadata": {
        "id": "x0_X5kSwENad"
      },
      "source": [
        "INPUT_DIM = len(TEXT.vocab)\n",
        "EMBEDDING_DIM = 100\n",
        "HIDDEN_DIM = 256\n",
        "OUTPUT_DIM = 1\n",
        "\n",
        "model = RNN(INPUT_DIM, EMBEDDING_DIM, HIDDEN_DIM, OUTPUT_DIM)\n",
        "print(model)"
      ],
      "execution_count": null,
      "outputs": []
    },
    {
      "cell_type": "code",
      "metadata": {
        "colab": {
          "base_uri": "https://localhost:8080/"
        },
        "id": "VdGb8dKBEO2x",
        "outputId": "65219d1f-3ad9-4da3-e13d-d3c390556582"
      },
      "source": [
        "#No. of trianable parameters\n",
        "def count_parameters(model):\n",
        "    return sum(p.numel() for p in model.parameters() if p.requires_grad)\n",
        "\n",
        "print(f'The model has {count_parameters(model):,} trainable parameters')"
      ],
      "execution_count": null,
      "outputs": [
        {
          "output_type": "stream",
          "name": "stdout",
          "text": [
            "The model has 2,592,105 trainable parameters\n"
          ]
        }
      ]
    },
    {
      "cell_type": "code",
      "metadata": {
        "id": "AAeEtXiJEQCj"
      },
      "source": [
        "import torch.optim as optim\n",
        "optimizer = optim.SGD(model.parameters(), lr=1e-3)\n",
        "criterion = nn.BCEWithLogitsLoss()\n",
        "\n",
        "model = model.to(device)\n",
        "criterion = criterion.to(device)\n",
        "\n",
        "def binary_accuracy(preds, y):\n",
        "    \"\"\"\n",
        "    Returns accuracy per batch, i.e. if you get 8/10 right, this returns 0.8, NOT 8\n",
        "    \"\"\"\n",
        "    #round predictions to the closest integer\n",
        "    rounded_preds = torch.round(torch.sigmoid(preds))\n",
        "    correct = (rounded_preds == y).float() #convert into float for division \n",
        "    acc = correct.sum() / len(correct)\n",
        "    return acc"
      ],
      "execution_count": null,
      "outputs": []
    },
    {
      "cell_type": "code",
      "metadata": {
        "id": "N1iGJW1wEUrL"
      },
      "source": [
        "def train(model, iterator, optimizer, criterion):\n",
        "    epoch_loss = 0\n",
        "    epoch_acc = 0\n",
        "    model.train()\n",
        "    \n",
        "    for batch in iterator:\n",
        "        optimizer.zero_grad()\n",
        "        predictions = model(batch.text).squeeze(1)\n",
        "        loss = criterion(predictions, batch.label)\n",
        "        acc = binary_accuracy(predictions, batch.label)\n",
        "        \n",
        "        loss.backward()\n",
        "        optimizer.step()\n",
        "\n",
        "        epoch_loss += loss.item()\n",
        "        epoch_acc += acc.item()\n",
        "        \n",
        "    return epoch_loss / len(iterator), epoch_acc / len(iterator)"
      ],
      "execution_count": null,
      "outputs": []
    },
    {
      "cell_type": "code",
      "metadata": {
        "id": "HNQxQS3tEWUW"
      },
      "source": [
        "def evaluate(model, iterator, criterion):\n",
        "    epoch_loss = 0\n",
        "    epoch_acc = 0\n",
        "    model.eval()\n",
        "    \n",
        "    with torch.no_grad():\n",
        "        for batch in iterator:\n",
        "            predictions = model(batch.text).squeeze(1)\n",
        "            loss = criterion(predictions, batch.label)\n",
        "            acc = binary_accuracy(predictions, batch.label)\n",
        "\n",
        "            epoch_loss += loss.item()\n",
        "            epoch_acc += acc.item()\n",
        "\n",
        "    return epoch_loss / len(iterator), epoch_acc / len(iterator)"
      ],
      "execution_count": null,
      "outputs": []
    },
    {
      "cell_type": "code",
      "metadata": {
        "id": "DVM8MtV6EYIw"
      },
      "source": [
        "import time\n",
        "\n",
        "def epoch_time(start_time, end_time):\n",
        "    elapsed_time = end_time - start_time\n",
        "    elapsed_mins = int(elapsed_time / 60)\n",
        "    elapsed_secs = int(elapsed_time - (elapsed_mins * 60))\n",
        "    return elapsed_mins, elapsed_secs"
      ],
      "execution_count": null,
      "outputs": []
    },
    {
      "cell_type": "code",
      "metadata": {
        "colab": {
          "base_uri": "https://localhost:8080/"
        },
        "id": "yJ5KZmM4EZXW",
        "outputId": "29727d94-33ae-4a87-ebda-04daa368fc54"
      },
      "source": [
        "N_EPOCHS = 5\n",
        "\n",
        "best_valid_loss = float('inf')\n",
        "\n",
        "for epoch in range(N_EPOCHS):\n",
        "    start_time = time.time()\n",
        "    \n",
        "    train_loss, train_acc = train(model, train_iterator, optimizer, criterion)\n",
        "    valid_loss, valid_acc = evaluate(model, valid_iterator, criterion)\n",
        "    \n",
        "    end_time = time.time()\n",
        "    epoch_mins, epoch_secs = epoch_time(start_time, end_time)\n",
        "    \n",
        "    if valid_loss < best_valid_loss:\n",
        "        best_valid_loss = valid_loss\n",
        "        torch.save(model.state_dict(), 'tut1-model.pt')\n",
        "    \n",
        "    print(f'Epoch: {epoch+1:02} | Epoch Time: {epoch_mins}m {epoch_secs}s')\n",
        "    print(f'\\tTrain Loss: {train_loss:.3f} | Train Acc: {train_acc*100:.2f}%')\n",
        "    print(f'\\t Val. Loss: {valid_loss:.3f} |  Val. Acc: {valid_acc*100:.2f}%')"
      ],
      "execution_count": null,
      "outputs": [
        {
          "output_type": "stream",
          "name": "stdout",
          "text": [
            "Epoch: 01 | Epoch Time: 0m 45s\n",
            "\tTrain Loss: 0.694 | Train Acc: 50.22%\n",
            "\t Val. Loss: 0.696 |  Val. Acc: 49.46%\n",
            "Epoch: 02 | Epoch Time: 0m 45s\n",
            "\tTrain Loss: 0.693 | Train Acc: 49.65%\n",
            "\t Val. Loss: 0.696 |  Val. Acc: 50.84%\n",
            "Epoch: 03 | Epoch Time: 0m 45s\n",
            "\tTrain Loss: 0.693 | Train Acc: 49.97%\n",
            "\t Val. Loss: 0.696 |  Val. Acc: 50.78%\n",
            "Epoch: 04 | Epoch Time: 0m 45s\n",
            "\tTrain Loss: 0.693 | Train Acc: 49.62%\n",
            "\t Val. Loss: 0.696 |  Val. Acc: 49.38%\n",
            "Epoch: 05 | Epoch Time: 0m 45s\n",
            "\tTrain Loss: 0.693 | Train Acc: 49.93%\n",
            "\t Val. Loss: 0.696 |  Val. Acc: 51.19%\n"
          ]
        }
      ]
    },
    {
      "cell_type": "code",
      "metadata": {
        "colab": {
          "base_uri": "https://localhost:8080/"
        },
        "id": "qIiKAJMaEbKO",
        "outputId": "db5783fa-7366-427a-a543-83d7fbf8db9a"
      },
      "source": [
        "model.load_state_dict(torch.load('tut1-model.pt'))\n",
        "test_loss, test_acc = evaluate(model, test_iterator, criterion)\n",
        "print(f'Test Loss: {test_loss:.3f} | Test Acc: {test_acc*100:.2f}%')"
      ],
      "execution_count": null,
      "outputs": [
        {
          "output_type": "stream",
          "name": "stdout",
          "text": [
            "Test Loss: 0.710 | Test Acc: 46.89%\n"
          ]
        }
      ]
    },
    {
      "cell_type": "markdown",
      "metadata": {
        "id": "2DXUrSnKL2V9"
      },
      "source": [
        "# USING LSTM"
      ]
    },
    {
      "cell_type": "code",
      "metadata": {
        "colab": {
          "base_uri": "https://localhost:8080/"
        },
        "id": "9PP6iAT_L-iX",
        "outputId": "71f32fa7-bf8f-406a-b97e-5b76af280f67"
      },
      "source": [
        "import time\n",
        "import torch\n",
        "from torchtext.legacy import data\n",
        "import random\n",
        "import torch.optim as optim\n",
        "import torch.nn as nn\n",
        "from torchtext.legacy import datasets\n",
        "\n",
        "SEED = 1234\n",
        "BATCH_SIZE = 64\n",
        "MAX_VOCAB_SIZE = 25_000\n",
        "\n",
        "torch.manual_seed(SEED)\n",
        "torch.backends.cudnn.deterministic = True\n",
        "\n",
        "TEXT = data.Field(\n",
        "    tokenize = 'spacy',\n",
        "    tokenizer_language = 'en_core_web_sm',\n",
        "    include_lengths=True,\n",
        "    batch_first =True)\n",
        "\n",
        "LABEL = data.LabelField(\n",
        "    dtype = torch.float,\n",
        "    batch_first =True,\n",
        "    is_target=True,\n",
        "    sequential =False)\n",
        "\n",
        "train_data, test_data = datasets.IMDB.splits(TEXT, LABEL)\n",
        "print(f'Number of training examples: {len(train_data)}')\n",
        "print(f'Number of testing examples: {len(test_data)}')\n",
        "print(vars(train_data.examples[0]))\n",
        "\n",
        "train_data, valid_data = train_data.split(random_state = random.seed(SEED))\n",
        "print(f'Number of training examples: {len(train_data)}')\n",
        "print(f'Number of validation examples: {len(valid_data)}')\n",
        "print(f'Number of testing examples: {len(test_data)}')\n",
        "\n",
        "TEXT.build_vocab(train_data, max_size = MAX_VOCAB_SIZE)\n",
        "LABEL.build_vocab(train_data)\n",
        "print(f\"Unique tokens in TEXT vocabulary: {len(TEXT.vocab)}\")\n",
        "print(f\"Unique tokens in LABEL vocabulary: {len(LABEL.vocab)}\")\n",
        "print(TEXT.vocab.freqs.most_common(20))\n",
        "print(TEXT.vocab.itos[:10])\n",
        "print(LABEL.vocab.stoi)\n",
        "\n",
        "device = torch.device('cuda' if torch.cuda.is_available() else 'cpu')\n",
        "train_iterator, valid_iterator, test_iterator = data.BucketIterator.splits(\n",
        "    (train_data, valid_data, test_data), \n",
        "    batch_size = BATCH_SIZE,\n",
        "\n",
        "    sort_key = lambda x: len(x.text),\n",
        "    sort_within_batch=True,\n",
        "\n",
        "    device = device)"
      ],
      "execution_count": null,
      "outputs": [
        {
          "output_type": "stream",
          "name": "stdout",
          "text": [
            "downloading aclImdb_v1.tar.gz\n"
          ]
        },
        {
          "output_type": "stream",
          "name": "stderr",
          "text": [
            "aclImdb_v1.tar.gz: 100%|██████████| 84.1M/84.1M [00:02<00:00, 39.8MB/s]\n"
          ]
        },
        {
          "output_type": "stream",
          "name": "stdout",
          "text": [
            "Number of training examples: 25000\n",
            "Number of testing examples: 25000\n",
            "{'text': ['While', 'this', 'was', 'a', 'better', 'movie', 'than', '101', 'Dalmations', '(', 'live', 'action', ',', 'not', 'animated', 'version', ')', ',', 'I', 'think', 'it', 'still', 'fell', 'a', 'little', 'short', 'of', 'what', 'Disney', 'could', 'do', '.', 'It', 'was', 'well', '-', 'filmed', ',', 'the', 'music', 'was', 'more', 'suited', 'to', 'the', 'action', ',', 'and', 'the', 'effects', 'were', 'better', 'done', '(', 'compared', 'to', '101', ')', '.', 'The', 'acting', 'was', 'perhaps', 'better', ',', 'but', 'then', 'the', 'human', 'characters', 'were', 'given', 'far', 'more', 'appropriate', 'roles', 'in', 'this', 'sequel', ',', 'and', 'Glenn', 'Close', 'is', 'really', 'not', 'to', 'be', 'missed', ',', 'as', 'in', 'the', 'first', 'movie', '.', 'She', 'makes', 'it', 'shine', '.', 'Her', 'poor', 'lackey', 'and', 'the', 'overzealous', 'furrier', 'sidekicks', 'are', 'wonderful', 'characters', 'to', 'play', 'off', 'of', ',', 'and', 'they', 'add', 'to', 'the', 'spectacle', 'Disney', 'has', 'given', 'us', '.', 'This', 'is', 'a', 'great', 'family', 'film', ',', 'with', 'little', 'or', 'no', 'objectionable', 'material', ',', 'and', 'yet', 'it', 'remains', 'fun', 'and', 'interesting', 'for', 'adults', 'and', 'children', 'alike', '.', 'It', \"'s\", 'bound', 'to', 'be', 'a', 'classic', ',', 'as', 'so', 'many', 'Disney', 'films', 'are', '.', 'Here', \"'s\", 'to', 'hoping', 'the', 'third', 'will', 'be', 'even', 'better', 'still-', 'because', 'you', 'know', 'they', 'probably', 'want', 'to', 'make', 'one', '.', ';)'], 'label': 'pos'}\n",
            "Number of training examples: 17500\n",
            "Number of validation examples: 7500\n",
            "Number of testing examples: 25000\n",
            "Unique tokens in TEXT vocabulary: 25002\n",
            "Unique tokens in LABEL vocabulary: 2\n",
            "[('the', 203883), (',', 193363), ('.', 166762), ('and', 110063), ('a', 109530), ('of', 100924), ('to', 93842), ('is', 76734), ('in', 61619), ('I', 54378), ('it', 53503), ('that', 49231), ('\"', 44186), (\"'s\", 43472), ('this', 42441), ('-', 37108), ('/><br', 35778), ('was', 35097), ('as', 30575), ('with', 30303)]\n",
            "['<unk>', '<pad>', 'the', ',', '.', 'and', 'a', 'of', 'to', 'is']\n",
            "defaultdict(None, {'neg': 0, 'pos': 1})\n"
          ]
        }
      ]
    },
    {
      "cell_type": "code",
      "metadata": {
        "colab": {
          "base_uri": "https://localhost:8080/"
        },
        "id": "BmR5z3nfNzBk",
        "outputId": "e1ae4d71-8d33-407d-dfbd-ceb49b1c88b3"
      },
      "source": [
        "class LSTM(nn.Module):\n",
        "    def __init__(self, input_dim, embedding_dim, hidden_dim, output_dim, n_layers, dropout):\n",
        "        super().__init__()        \n",
        "        \n",
        "        # Embedding layer\n",
        "        self.embedding = nn.Embedding(input_dim, embedding_dim)\n",
        "        \n",
        "        # LSTM layer\n",
        "        self.lstm = nn.LSTM(embedding_dim, \n",
        "                           hidden_dim, \n",
        "                           num_layers=n_layers, \n",
        "                           dropout=dropout,\n",
        "                           batch_first=True)\n",
        "        \n",
        "        # Dense layer\n",
        "        self.fc = nn.Linear(hidden_dim, output_dim)\n",
        "        \n",
        "    def forward(self, text, text_lengths):\n",
        "        #text = [sent len, batch size]\n",
        "\n",
        "        embedded = self.embedding(text)\n",
        "        # print(\"\\n\\nembedded.shape = \", embedded.shape)\n",
        "        # print(\"text_lengths = \", text_lengths)\n",
        "        #embedded = [sent len, batch size, emb dim]\n",
        "\n",
        "        # packed sequence\n",
        "        packed_embedded = nn.utils.rnn.pack_padded_sequence(\n",
        "            embedded, text_lengths.cpu(), batch_first=True)\n",
        "        \n",
        "        packed_output, (hidden, cell) = self.lstm(packed_embedded)\n",
        "\n",
        "        # print(\"\\n\\n len packed_embedded = \", len(packed_embedded))\n",
        "        # print(len(packed_embedded[0]))\n",
        "        # print(len(packed_embedded[0][0]))\n",
        "        \n",
        "        # print(\"\\n\\n len packed_output = \",  len(packed_output))\n",
        "        # print(len(packed_output[0]))\n",
        "        # print(len(packed_output[0][0]))\n",
        "\n",
        "        # print(\"\\n\\nhidden.shape = \", hidden.shape)\n",
        "\n",
        "        #packed_output = [sent len, batch size, hid dim]\n",
        "        #hidden = [1, batch size, hid dim]\n",
        "        \n",
        "        # assert torch.equal(packed_output[-1,:,:], hidden.squeeze(0))\n",
        "        \n",
        "        # x = self.fc(hidden[1].squeeze(0))\n",
        "        # x = self.fc(hidden.squeeze(0))\n",
        "        x = self.fc(hidden[0].squeeze(0))\n",
        "        \n",
        "        # print(\"x.shape = \", x.shape)\n",
        "        return x\n",
        "\n",
        "INPUT_DIM = len(TEXT.vocab)\n",
        "EMBEDDING_DIM = 100\n",
        "HIDDEN_DIM = 256\n",
        "OUTPUT_DIM = 1\n",
        "\n",
        "NUM_LAYERS = 2\n",
        "DROUPOUT = 0.2\n",
        "\n",
        "model = LSTM(INPUT_DIM, EMBEDDING_DIM, HIDDEN_DIM, OUTPUT_DIM, NUM_LAYERS, dropout=DROUPOUT)\n",
        "print(model)\n",
        "\n",
        "def count_parameters(model):\n",
        "    return sum(p.numel() for p in model.parameters() if p.requires_grad)\n",
        "\n",
        "print(f'The model has {count_parameters(model):,} trainable parameters')\n",
        "\n",
        "\n",
        "# optimizer = optim.SGD(model.parameters(), lr=1e-3)\n",
        "optimizer = optim.SGD(model.parameters(), lr=0.01)\n",
        "criterion = nn.BCEWithLogitsLoss()\n",
        "\n",
        "model = model.to(device)\n",
        "criterion = criterion.to(device)\n",
        "\n",
        "def binary_accuracy(preds, y):\n",
        "    \"\"\"\n",
        "    Returns accuracy per batch, i.e. if you get 8/10 right, this returns 0.8, NOT 8\n",
        "    \"\"\"\n",
        "    #round predictions to the closest integer\n",
        "    rounded_preds = torch.round(torch.sigmoid(preds))\n",
        "    correct = (rounded_preds == y).float() #convert into float for division \n",
        "    acc = correct.sum() / len(correct)\n",
        "    return acc\n",
        "\n",
        "def train(model, iterator, optimizer, criterion):\n",
        "    epoch_loss = 0\n",
        "    epoch_acc = 0\n",
        "    \n",
        "    # set the model in training phase\n",
        "    model.train()\n",
        "    \n",
        "    for batch in iterator:\n",
        "        optimizer.zero_grad()\n",
        "        \n",
        "        # retrieve text and no. of words\n",
        "        text, text_lengths = batch.text\n",
        "\n",
        "        predictions = model(text, text_lengths).squeeze(1)  \n",
        "\n",
        "        loss = criterion(predictions, batch.label)\n",
        "        acc = binary_accuracy(predictions, batch.label)\n",
        "        \n",
        "        loss.backward()\n",
        "        optimizer.step()\n",
        "\n",
        "        # loss and accuracy\n",
        "        epoch_loss += loss.item()\n",
        "        epoch_acc += acc.item()\n",
        "        \n",
        "    return epoch_loss / len(iterator), epoch_acc / len(iterator)\n",
        "\n",
        "def evaluate(model, iterator, criterion):\n",
        "    epoch_loss = 0\n",
        "    epoch_acc = 0\n",
        "    model.eval()\n",
        "    \n",
        "    with torch.no_grad():\n",
        "        for batch in iterator:\n",
        "            # retrieve text and no. of words\n",
        "            text, text_lengths = batch.text\n",
        "            \n",
        "            predictions = model(text, text_lengths).squeeze(1)\n",
        "            loss = criterion(predictions, batch.label)\n",
        "            acc = binary_accuracy(predictions, batch.label)\n",
        "\n",
        "            epoch_loss += loss.item()\n",
        "            epoch_acc += acc.item()\n",
        "\n",
        "    return epoch_loss / len(iterator), epoch_acc / len(iterator)\n",
        "\n",
        "def epoch_time(start_time, end_time):\n",
        "    elapsed_time = end_time - start_time\n",
        "    elapsed_mins = int(elapsed_time / 60)\n",
        "    elapsed_secs = int(elapsed_time - (elapsed_mins * 60))\n",
        "    return elapsed_mins, elapsed_secs\n"
      ],
      "execution_count": null,
      "outputs": [
        {
          "output_type": "stream",
          "name": "stdout",
          "text": [
            "LSTM(\n",
            "  (embedding): Embedding(25002, 100)\n",
            "  (lstm): LSTM(100, 256, num_layers=2, batch_first=True, dropout=0.2)\n",
            "  (fc): Linear(in_features=256, out_features=1, bias=True)\n",
            ")\n",
            "The model has 3,393,385 trainable parameters\n"
          ]
        }
      ]
    },
    {
      "cell_type": "code",
      "metadata": {
        "colab": {
          "base_uri": "https://localhost:8080/"
        },
        "id": "YGcEszKNTdKU",
        "outputId": "1a143b24-34b4-4c7a-bc19-fff4e5440f71"
      },
      "source": [
        "N_EPOCHS = 20\n",
        "best_valid_loss = float('inf')\n",
        "\n",
        "for epoch in range(N_EPOCHS):\n",
        "    start_time = time.time()\n",
        "    \n",
        "    train_loss, train_acc = train(model, train_iterator, optimizer, criterion)\n",
        "    valid_loss, valid_acc = evaluate(model, valid_iterator, criterion)\n",
        "    \n",
        "    end_time = time.time()\n",
        "    epoch_mins, epoch_secs = epoch_time(start_time, end_time)\n",
        "    \n",
        "    if valid_loss < best_valid_loss:\n",
        "        best_valid_loss = valid_loss\n",
        "        torch.save(model.state_dict(), 'tut1-model.pt')\n",
        "    \n",
        "    print(f'Epoch: {epoch+1:02} | Epoch Time: {epoch_mins}m {epoch_secs}s')\n",
        "    print(f'\\tTrain Loss: {train_loss:.3f} | Train Acc: {train_acc*100:.2f}%')\n",
        "    print(f'\\t Val. Loss: {valid_loss:.3f} |  Val. Acc: {valid_acc*100:.2f}%')"
      ],
      "execution_count": null,
      "outputs": [
        {
          "output_type": "stream",
          "name": "stdout",
          "text": [
            "Epoch: 01 | Epoch Time: 0m 45s\n",
            "\tTrain Loss: 0.693 | Train Acc: 50.82%\n",
            "\t Val. Loss: 0.693 |  Val. Acc: 51.55%\n",
            "Epoch: 02 | Epoch Time: 0m 45s\n",
            "\tTrain Loss: 0.692 | Train Acc: 51.75%\n",
            "\t Val. Loss: 0.692 |  Val. Acc: 52.15%\n",
            "Epoch: 03 | Epoch Time: 0m 45s\n",
            "\tTrain Loss: 0.691 | Train Acc: 52.44%\n",
            "\t Val. Loss: 0.691 |  Val. Acc: 52.54%\n",
            "Epoch: 04 | Epoch Time: 0m 45s\n",
            "\tTrain Loss: 0.690 | Train Acc: 53.19%\n",
            "\t Val. Loss: 0.691 |  Val. Acc: 52.65%\n",
            "Epoch: 05 | Epoch Time: 0m 45s\n",
            "\tTrain Loss: 0.690 | Train Acc: 53.35%\n",
            "\t Val. Loss: 0.690 |  Val. Acc: 53.04%\n",
            "Epoch: 06 | Epoch Time: 0m 45s\n",
            "\tTrain Loss: 0.689 | Train Acc: 53.80%\n",
            "\t Val. Loss: 0.690 |  Val. Acc: 53.24%\n",
            "Epoch: 07 | Epoch Time: 0m 45s\n",
            "\tTrain Loss: 0.689 | Train Acc: 54.15%\n",
            "\t Val. Loss: 0.689 |  Val. Acc: 53.62%\n",
            "Epoch: 08 | Epoch Time: 0m 45s\n",
            "\tTrain Loss: 0.688 | Train Acc: 55.00%\n",
            "\t Val. Loss: 0.689 |  Val. Acc: 53.41%\n",
            "Epoch: 09 | Epoch Time: 0m 45s\n",
            "\tTrain Loss: 0.688 | Train Acc: 54.84%\n",
            "\t Val. Loss: 0.688 |  Val. Acc: 54.16%\n",
            "Epoch: 10 | Epoch Time: 0m 45s\n",
            "\tTrain Loss: 0.687 | Train Acc: 55.21%\n",
            "\t Val. Loss: 0.688 |  Val. Acc: 54.28%\n",
            "Epoch: 11 | Epoch Time: 0m 45s\n",
            "\tTrain Loss: 0.686 | Train Acc: 55.78%\n",
            "\t Val. Loss: 0.688 |  Val. Acc: 54.37%\n",
            "Epoch: 12 | Epoch Time: 0m 45s\n",
            "\tTrain Loss: 0.686 | Train Acc: 55.76%\n",
            "\t Val. Loss: 0.687 |  Val. Acc: 54.46%\n",
            "Epoch: 13 | Epoch Time: 0m 45s\n",
            "\tTrain Loss: 0.685 | Train Acc: 56.04%\n",
            "\t Val. Loss: 0.687 |  Val. Acc: 54.67%\n",
            "Epoch: 14 | Epoch Time: 0m 45s\n",
            "\tTrain Loss: 0.685 | Train Acc: 56.31%\n",
            "\t Val. Loss: 0.686 |  Val. Acc: 55.50%\n",
            "Epoch: 15 | Epoch Time: 0m 45s\n",
            "\tTrain Loss: 0.684 | Train Acc: 56.48%\n",
            "\t Val. Loss: 0.686 |  Val. Acc: 55.03%\n",
            "Epoch: 16 | Epoch Time: 0m 45s\n",
            "\tTrain Loss: 0.684 | Train Acc: 56.54%\n",
            "\t Val. Loss: 0.685 |  Val. Acc: 55.72%\n",
            "Epoch: 17 | Epoch Time: 0m 45s\n",
            "\tTrain Loss: 0.683 | Train Acc: 56.91%\n",
            "\t Val. Loss: 0.685 |  Val. Acc: 54.97%\n",
            "Epoch: 18 | Epoch Time: 0m 45s\n",
            "\tTrain Loss: 0.682 | Train Acc: 57.20%\n",
            "\t Val. Loss: 0.684 |  Val. Acc: 55.35%\n",
            "Epoch: 19 | Epoch Time: 0m 45s\n",
            "\tTrain Loss: 0.682 | Train Acc: 57.25%\n",
            "\t Val. Loss: 0.684 |  Val. Acc: 55.50%\n",
            "Epoch: 20 | Epoch Time: 0m 45s\n",
            "\tTrain Loss: 0.681 | Train Acc: 57.23%\n",
            "\t Val. Loss: 0.683 |  Val. Acc: 55.99%\n"
          ]
        }
      ]
    },
    {
      "cell_type": "code",
      "metadata": {
        "colab": {
          "base_uri": "https://localhost:8080/"
        },
        "id": "1oL-8XStOaEI",
        "outputId": "7c462f73-43b7-4b92-de79-9c369357b950"
      },
      "source": [
        "model.load_state_dict(torch.load('tut1-model.pt'))\n",
        "test_loss, test_acc = evaluate(model, test_iterator, criterion)\n",
        "print(f'Test Loss: {test_loss:.3f} | Test Acc: {test_acc*100:.2f}%')"
      ],
      "execution_count": null,
      "outputs": [
        {
          "output_type": "stream",
          "name": "stdout",
          "text": [
            "Test Loss: 0.693 | Test Acc: 51.10%\n"
          ]
        }
      ]
    }
  ]
}